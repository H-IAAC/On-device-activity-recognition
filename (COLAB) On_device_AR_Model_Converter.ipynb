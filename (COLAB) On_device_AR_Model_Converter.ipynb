{
 "cells": [
  {
   "cell_type": "code",
   "execution_count": null,
   "metadata": {
    "id": "LmaI759C6Ktg"
   },
   "outputs": [],
   "source": [
    "!pip install tensorflow-gpu==2.6.2\n",
    "!pip install Pillow\n",
    "!pip install scipy"
   ]
  },
  {
   "cell_type": "code",
   "execution_count": 3,
   "metadata": {
    "colab": {
     "base_uri": "https://localhost:8080/"
    },
    "id": "YI-HS6zp26as",
    "outputId": "47d9356f-c2d3-46e3-aaba-d132e253e8da"
   },
   "outputs": [
    {
     "name": "stdout",
     "output_type": "stream",
     "text": [
      "2.7.0\n"
     ]
    }
   ],
   "source": [
    "#from google.colab import drive\n",
    "#drive.mount('/content/gdrive')\n",
    "\n",
    "import numpy as np\n",
    "import tensorflow as tf\n",
    "print(tf.__version__)\n",
    "import pandas as pd\n",
    "from tensorflow.keras.models import Model, Sequential\n",
    "from tensorflow.keras.optimizers import Adam\n",
    "from tensorflow.keras.regularizers import l2\n",
    "from tensorflow.keras.models import load_model, save_model\n",
    "from tensorflow.keras.layers import Input, Conv2D, Flatten, Dense, MaxPool2D, Reshape\n",
    "from tensorflow.keras.layers import LSTM"
   ]
  },
  {
   "cell_type": "code",
   "execution_count": 4,
   "metadata": {},
   "outputs": [],
   "source": [
    "# https://stackoverflow.com/questions/58352326/running-the-tensorflow-2-0-code-gives-valueerror-tf-function-decorated-functio\n",
    "tf.config.run_functions_eagerly(True)"
   ]
  },
  {
   "cell_type": "code",
   "execution_count": 3,
   "metadata": {
    "tags": []
   },
   "outputs": [],
   "source": [
    "acc = pd.read_csv('data/Activity recognition exp/Phones_accelerometer.csv')\n",
    "gyro = pd.read_csv('data/Activity recognition exp/Phones_gyroscope.csv')"
   ]
  },
  {
   "cell_type": "code",
   "execution_count": 4,
   "metadata": {},
   "outputs": [
    {
     "name": "stderr",
     "output_type": "stream",
     "text": [
      "/tmp/ipykernel_29292/154202354.py:2: FutureWarning: In a future version of pandas all arguments of DataFrame.drop except for the argument 'labels' will be keyword-only\n",
      "  acc = acc.drop('Index', 1)\n",
      "/tmp/ipykernel_29292/154202354.py:3: FutureWarning: In a future version of pandas all arguments of DataFrame.drop except for the argument 'labels' will be keyword-only\n",
      "  acc = acc.drop('Creation_Time', 1)\n",
      "/tmp/ipykernel_29292/154202354.py:4: FutureWarning: In a future version of pandas all arguments of DataFrame.drop except for the argument 'labels' will be keyword-only\n",
      "  acc = acc.drop('Model', 1)\n",
      "/tmp/ipykernel_29292/154202354.py:5: FutureWarning: In a future version of pandas all arguments of DataFrame.drop except for the argument 'labels' will be keyword-only\n",
      "  acc = acc.drop('Device', 1)\n"
     ]
    },
    {
     "data": {
      "text/html": [
       "<div>\n",
       "<style scoped>\n",
       "    .dataframe tbody tr th:only-of-type {\n",
       "        vertical-align: middle;\n",
       "    }\n",
       "\n",
       "    .dataframe tbody tr th {\n",
       "        vertical-align: top;\n",
       "    }\n",
       "\n",
       "    .dataframe thead th {\n",
       "        text-align: right;\n",
       "    }\n",
       "</style>\n",
       "<table border=\"1\" class=\"dataframe\">\n",
       "  <thead>\n",
       "    <tr style=\"text-align: right;\">\n",
       "      <th></th>\n",
       "      <th>Arrival_Time</th>\n",
       "      <th>acc_x</th>\n",
       "      <th>acc_y</th>\n",
       "      <th>acc_z</th>\n",
       "      <th>User</th>\n",
       "      <th>label</th>\n",
       "    </tr>\n",
       "  </thead>\n",
       "  <tbody>\n",
       "    <tr>\n",
       "      <th>0</th>\n",
       "      <td>1424696633908</td>\n",
       "      <td>-5.958191</td>\n",
       "      <td>0.688065</td>\n",
       "      <td>8.135345</td>\n",
       "      <td>a</td>\n",
       "      <td>stand</td>\n",
       "    </tr>\n",
       "    <tr>\n",
       "      <th>1</th>\n",
       "      <td>1424696633909</td>\n",
       "      <td>-5.952240</td>\n",
       "      <td>0.670212</td>\n",
       "      <td>8.136536</td>\n",
       "      <td>a</td>\n",
       "      <td>stand</td>\n",
       "    </tr>\n",
       "    <tr>\n",
       "      <th>2</th>\n",
       "      <td>1424696633918</td>\n",
       "      <td>-5.995087</td>\n",
       "      <td>0.653549</td>\n",
       "      <td>8.204376</td>\n",
       "      <td>a</td>\n",
       "      <td>stand</td>\n",
       "    </tr>\n",
       "    <tr>\n",
       "      <th>3</th>\n",
       "      <td>1424696633919</td>\n",
       "      <td>-5.942718</td>\n",
       "      <td>0.676163</td>\n",
       "      <td>8.128204</td>\n",
       "      <td>a</td>\n",
       "      <td>stand</td>\n",
       "    </tr>\n",
       "    <tr>\n",
       "      <th>4</th>\n",
       "      <td>1424696633929</td>\n",
       "      <td>-5.991516</td>\n",
       "      <td>0.641647</td>\n",
       "      <td>8.135345</td>\n",
       "      <td>a</td>\n",
       "      <td>stand</td>\n",
       "    </tr>\n",
       "    <tr>\n",
       "      <th>...</th>\n",
       "      <td>...</td>\n",
       "      <td>...</td>\n",
       "      <td>...</td>\n",
       "      <td>...</td>\n",
       "      <td>...</td>\n",
       "      <td>...</td>\n",
       "    </tr>\n",
       "    <tr>\n",
       "      <th>13062470</th>\n",
       "      <td>1424778553315</td>\n",
       "      <td>1.379043</td>\n",
       "      <td>0.153227</td>\n",
       "      <td>9.959755</td>\n",
       "      <td>i</td>\n",
       "      <td>bike</td>\n",
       "    </tr>\n",
       "    <tr>\n",
       "      <th>13062471</th>\n",
       "      <td>1424778553346</td>\n",
       "      <td>1.379043</td>\n",
       "      <td>0.153227</td>\n",
       "      <td>9.806528</td>\n",
       "      <td>i</td>\n",
       "      <td>bike</td>\n",
       "    </tr>\n",
       "    <tr>\n",
       "      <th>13062472</th>\n",
       "      <td>1424778553366</td>\n",
       "      <td>1.532270</td>\n",
       "      <td>0.153227</td>\n",
       "      <td>9.806528</td>\n",
       "      <td>i</td>\n",
       "      <td>bike</td>\n",
       "    </tr>\n",
       "    <tr>\n",
       "      <th>13062473</th>\n",
       "      <td>1424778553386</td>\n",
       "      <td>1.532270</td>\n",
       "      <td>0.000000</td>\n",
       "      <td>9.959755</td>\n",
       "      <td>i</td>\n",
       "      <td>bike</td>\n",
       "    </tr>\n",
       "    <tr>\n",
       "      <th>13062474</th>\n",
       "      <td>1424778553395</td>\n",
       "      <td>1.379043</td>\n",
       "      <td>0.000000</td>\n",
       "      <td>9.959755</td>\n",
       "      <td>i</td>\n",
       "      <td>bike</td>\n",
       "    </tr>\n",
       "  </tbody>\n",
       "</table>\n",
       "<p>13062475 rows × 6 columns</p>\n",
       "</div>"
      ],
      "text/plain": [
       "           Arrival_Time     acc_x     acc_y     acc_z User  label\n",
       "0         1424696633908 -5.958191  0.688065  8.135345    a  stand\n",
       "1         1424696633909 -5.952240  0.670212  8.136536    a  stand\n",
       "2         1424696633918 -5.995087  0.653549  8.204376    a  stand\n",
       "3         1424696633919 -5.942718  0.676163  8.128204    a  stand\n",
       "4         1424696633929 -5.991516  0.641647  8.135345    a  stand\n",
       "...                 ...       ...       ...       ...  ...    ...\n",
       "13062470  1424778553315  1.379043  0.153227  9.959755    i   bike\n",
       "13062471  1424778553346  1.379043  0.153227  9.806528    i   bike\n",
       "13062472  1424778553366  1.532270  0.153227  9.806528    i   bike\n",
       "13062473  1424778553386  1.532270  0.000000  9.959755    i   bike\n",
       "13062474  1424778553395  1.379043  0.000000  9.959755    i   bike\n",
       "\n",
       "[13062475 rows x 6 columns]"
      ]
     },
     "execution_count": 4,
     "metadata": {},
     "output_type": "execute_result"
    }
   ],
   "source": [
    "acc.rename(columns={'x': 'acc_x', 'y': 'acc_y','z': 'acc_z', 'gt': 'label'}, inplace=True)\n",
    "acc = acc.drop('Index', 1)\n",
    "acc = acc.drop('Creation_Time', 1)\n",
    "acc = acc.drop('Model', 1)\n",
    "acc = acc.drop('Device', 1)\n",
    "acc"
   ]
  },
  {
   "cell_type": "code",
   "execution_count": 6,
   "metadata": {},
   "outputs": [
    {
     "name": "stderr",
     "output_type": "stream",
     "text": [
      "/tmp/ipykernel_29292/3097288041.py:2: FutureWarning: In a future version of pandas all arguments of DataFrame.drop except for the argument 'labels' will be keyword-only\n",
      "  gyro = gyro.drop('Index', 1)\n",
      "/tmp/ipykernel_29292/3097288041.py:3: FutureWarning: In a future version of pandas all arguments of DataFrame.drop except for the argument 'labels' will be keyword-only\n",
      "  gyro = gyro.drop('Creation_Time', 1)\n",
      "/tmp/ipykernel_29292/3097288041.py:4: FutureWarning: In a future version of pandas all arguments of DataFrame.drop except for the argument 'labels' will be keyword-only\n",
      "  gyro = gyro.drop('Model', 1)\n",
      "/tmp/ipykernel_29292/3097288041.py:5: FutureWarning: In a future version of pandas all arguments of DataFrame.drop except for the argument 'labels' will be keyword-only\n",
      "  gyro = gyro.drop('Device', 1)\n"
     ]
    },
    {
     "data": {
      "text/html": [
       "<div>\n",
       "<style scoped>\n",
       "    .dataframe tbody tr th:only-of-type {\n",
       "        vertical-align: middle;\n",
       "    }\n",
       "\n",
       "    .dataframe tbody tr th {\n",
       "        vertical-align: top;\n",
       "    }\n",
       "\n",
       "    .dataframe thead th {\n",
       "        text-align: right;\n",
       "    }\n",
       "</style>\n",
       "<table border=\"1\" class=\"dataframe\">\n",
       "  <thead>\n",
       "    <tr style=\"text-align: right;\">\n",
       "      <th></th>\n",
       "      <th>Arrival_Time</th>\n",
       "      <th>gyro_x</th>\n",
       "      <th>gyro_y</th>\n",
       "      <th>gyro_z</th>\n",
       "      <th>User</th>\n",
       "      <th>label</th>\n",
       "    </tr>\n",
       "  </thead>\n",
       "  <tbody>\n",
       "    <tr>\n",
       "      <th>0</th>\n",
       "      <td>1424696633909</td>\n",
       "      <td>0.013748</td>\n",
       "      <td>-0.000626</td>\n",
       "      <td>-0.023376</td>\n",
       "      <td>a</td>\n",
       "      <td>stand</td>\n",
       "    </tr>\n",
       "    <tr>\n",
       "      <th>1</th>\n",
       "      <td>1424696633909</td>\n",
       "      <td>0.014816</td>\n",
       "      <td>-0.001694</td>\n",
       "      <td>-0.022308</td>\n",
       "      <td>a</td>\n",
       "      <td>stand</td>\n",
       "    </tr>\n",
       "    <tr>\n",
       "      <th>2</th>\n",
       "      <td>1424696633918</td>\n",
       "      <td>0.015884</td>\n",
       "      <td>-0.001694</td>\n",
       "      <td>-0.021240</td>\n",
       "      <td>a</td>\n",
       "      <td>stand</td>\n",
       "    </tr>\n",
       "    <tr>\n",
       "      <th>3</th>\n",
       "      <td>1424696633919</td>\n",
       "      <td>0.016953</td>\n",
       "      <td>-0.003830</td>\n",
       "      <td>-0.020172</td>\n",
       "      <td>a</td>\n",
       "      <td>stand</td>\n",
       "    </tr>\n",
       "    <tr>\n",
       "      <th>4</th>\n",
       "      <td>1424696633928</td>\n",
       "      <td>0.015884</td>\n",
       "      <td>-0.007034</td>\n",
       "      <td>-0.020172</td>\n",
       "      <td>a</td>\n",
       "      <td>stand</td>\n",
       "    </tr>\n",
       "    <tr>\n",
       "      <th>...</th>\n",
       "      <td>...</td>\n",
       "      <td>...</td>\n",
       "      <td>...</td>\n",
       "      <td>...</td>\n",
       "      <td>...</td>\n",
       "      <td>...</td>\n",
       "    </tr>\n",
       "    <tr>\n",
       "      <th>13932627</th>\n",
       "      <td>1424778269892</td>\n",
       "      <td>-0.046844</td>\n",
       "      <td>0.337667</td>\n",
       "      <td>0.134677</td>\n",
       "      <td>i</td>\n",
       "      <td>bike</td>\n",
       "    </tr>\n",
       "    <tr>\n",
       "      <th>13932628</th>\n",
       "      <td>1424778269906</td>\n",
       "      <td>-0.117598</td>\n",
       "      <td>0.221777</td>\n",
       "      <td>0.131749</td>\n",
       "      <td>i</td>\n",
       "      <td>bike</td>\n",
       "    </tr>\n",
       "    <tr>\n",
       "      <th>13932629</th>\n",
       "      <td>1424778269920</td>\n",
       "      <td>-0.177617</td>\n",
       "      <td>0.056115</td>\n",
       "      <td>0.095152</td>\n",
       "      <td>i</td>\n",
       "      <td>bike</td>\n",
       "    </tr>\n",
       "    <tr>\n",
       "      <th>13932630</th>\n",
       "      <td>1424778269932</td>\n",
       "      <td>-0.195183</td>\n",
       "      <td>-0.124429</td>\n",
       "      <td>0.063191</td>\n",
       "      <td>i</td>\n",
       "      <td>bike</td>\n",
       "    </tr>\n",
       "    <tr>\n",
       "      <th>13932631</th>\n",
       "      <td>1424778269953</td>\n",
       "      <td>-0.162002</td>\n",
       "      <td>-0.208846</td>\n",
       "      <td>0.043184</td>\n",
       "      <td>i</td>\n",
       "      <td>bike</td>\n",
       "    </tr>\n",
       "  </tbody>\n",
       "</table>\n",
       "<p>13932632 rows × 6 columns</p>\n",
       "</div>"
      ],
      "text/plain": [
       "           Arrival_Time    gyro_x    gyro_y    gyro_z User  label\n",
       "0         1424696633909  0.013748 -0.000626 -0.023376    a  stand\n",
       "1         1424696633909  0.014816 -0.001694 -0.022308    a  stand\n",
       "2         1424696633918  0.015884 -0.001694 -0.021240    a  stand\n",
       "3         1424696633919  0.016953 -0.003830 -0.020172    a  stand\n",
       "4         1424696633928  0.015884 -0.007034 -0.020172    a  stand\n",
       "...                 ...       ...       ...       ...  ...    ...\n",
       "13932627  1424778269892 -0.046844  0.337667  0.134677    i   bike\n",
       "13932628  1424778269906 -0.117598  0.221777  0.131749    i   bike\n",
       "13932629  1424778269920 -0.177617  0.056115  0.095152    i   bike\n",
       "13932630  1424778269932 -0.195183 -0.124429  0.063191    i   bike\n",
       "13932631  1424778269953 -0.162002 -0.208846  0.043184    i   bike\n",
       "\n",
       "[13932632 rows x 6 columns]"
      ]
     },
     "execution_count": 6,
     "metadata": {},
     "output_type": "execute_result"
    }
   ],
   "source": [
    "gyro.rename(columns={'x': 'gyro_x', 'y': 'gyro_y','z': 'gyro_z', 'gt': 'label'}, inplace=True)\n",
    "gyro = gyro.drop('Index', 1)\n",
    "gyro = gyro.drop('Creation_Time', 1)\n",
    "gyro = gyro.drop('Model', 1)\n",
    "gyro = gyro.drop('Device', 1)\n",
    "gyro"
   ]
  },
  {
   "cell_type": "code",
   "execution_count": 7,
   "metadata": {},
   "outputs": [
    {
     "data": {
      "text/html": [
       "<div>\n",
       "<style scoped>\n",
       "    .dataframe tbody tr th:only-of-type {\n",
       "        vertical-align: middle;\n",
       "    }\n",
       "\n",
       "    .dataframe tbody tr th {\n",
       "        vertical-align: top;\n",
       "    }\n",
       "\n",
       "    .dataframe thead th {\n",
       "        text-align: right;\n",
       "    }\n",
       "</style>\n",
       "<table border=\"1\" class=\"dataframe\">\n",
       "  <thead>\n",
       "    <tr style=\"text-align: right;\">\n",
       "      <th></th>\n",
       "      <th>Arrival_Time</th>\n",
       "      <th>acc_x</th>\n",
       "      <th>acc_y</th>\n",
       "      <th>acc_z</th>\n",
       "      <th>User</th>\n",
       "      <th>label</th>\n",
       "      <th>gyro_x</th>\n",
       "      <th>gyro_y</th>\n",
       "      <th>gyro_z</th>\n",
       "    </tr>\n",
       "  </thead>\n",
       "  <tbody>\n",
       "    <tr>\n",
       "      <th>0</th>\n",
       "      <td>1424696633908</td>\n",
       "      <td>-5.958191</td>\n",
       "      <td>0.688065</td>\n",
       "      <td>8.135345</td>\n",
       "      <td>a</td>\n",
       "      <td>stand</td>\n",
       "      <td>0.024129</td>\n",
       "      <td>-0.020769</td>\n",
       "      <td>0.008552</td>\n",
       "    </tr>\n",
       "    <tr>\n",
       "      <th>1</th>\n",
       "      <td>1424696633909</td>\n",
       "      <td>-5.952240</td>\n",
       "      <td>0.670212</td>\n",
       "      <td>8.136536</td>\n",
       "      <td>a</td>\n",
       "      <td>stand</td>\n",
       "      <td>0.013748</td>\n",
       "      <td>-0.000626</td>\n",
       "      <td>-0.023376</td>\n",
       "    </tr>\n",
       "    <tr>\n",
       "      <th>2</th>\n",
       "      <td>1424696633909</td>\n",
       "      <td>-5.952240</td>\n",
       "      <td>0.670212</td>\n",
       "      <td>8.136536</td>\n",
       "      <td>a</td>\n",
       "      <td>stand</td>\n",
       "      <td>0.014816</td>\n",
       "      <td>-0.001694</td>\n",
       "      <td>-0.022308</td>\n",
       "    </tr>\n",
       "    <tr>\n",
       "      <th>3</th>\n",
       "      <td>1424696633918</td>\n",
       "      <td>-5.995087</td>\n",
       "      <td>0.653549</td>\n",
       "      <td>8.204376</td>\n",
       "      <td>a</td>\n",
       "      <td>stand</td>\n",
       "      <td>0.015884</td>\n",
       "      <td>-0.001694</td>\n",
       "      <td>-0.021240</td>\n",
       "    </tr>\n",
       "    <tr>\n",
       "      <th>4</th>\n",
       "      <td>1424696633918</td>\n",
       "      <td>-5.995087</td>\n",
       "      <td>0.653549</td>\n",
       "      <td>8.204376</td>\n",
       "      <td>a</td>\n",
       "      <td>stand</td>\n",
       "      <td>0.023518</td>\n",
       "      <td>-0.017410</td>\n",
       "      <td>0.007636</td>\n",
       "    </tr>\n",
       "    <tr>\n",
       "      <th>...</th>\n",
       "      <td>...</td>\n",
       "      <td>...</td>\n",
       "      <td>...</td>\n",
       "      <td>...</td>\n",
       "      <td>...</td>\n",
       "      <td>...</td>\n",
       "      <td>...</td>\n",
       "      <td>...</td>\n",
       "      <td>...</td>\n",
       "    </tr>\n",
       "    <tr>\n",
       "      <th>12726170</th>\n",
       "      <td>1424778553235</td>\n",
       "      <td>1.532270</td>\n",
       "      <td>0.000000</td>\n",
       "      <td>9.806528</td>\n",
       "      <td>i</td>\n",
       "      <td>bike</td>\n",
       "      <td>-0.017624</td>\n",
       "      <td>0.005386</td>\n",
       "      <td>0.008514</td>\n",
       "    </tr>\n",
       "    <tr>\n",
       "      <th>12726171</th>\n",
       "      <td>1424778553256</td>\n",
       "      <td>1.379043</td>\n",
       "      <td>0.000000</td>\n",
       "      <td>9.959755</td>\n",
       "      <td>i</td>\n",
       "      <td>bike</td>\n",
       "      <td>-0.032693</td>\n",
       "      <td>-0.012687</td>\n",
       "      <td>-0.008539</td>\n",
       "    </tr>\n",
       "    <tr>\n",
       "      <th>12726172</th>\n",
       "      <td>1424778553286</td>\n",
       "      <td>1.532270</td>\n",
       "      <td>0.153227</td>\n",
       "      <td>9.959755</td>\n",
       "      <td>i</td>\n",
       "      <td>bike</td>\n",
       "      <td>-0.031717</td>\n",
       "      <td>-0.006831</td>\n",
       "      <td>-0.006099</td>\n",
       "    </tr>\n",
       "    <tr>\n",
       "      <th>12726173</th>\n",
       "      <td>1424778553306</td>\n",
       "      <td>1.379043</td>\n",
       "      <td>0.000000</td>\n",
       "      <td>9.959755</td>\n",
       "      <td>i</td>\n",
       "      <td>bike</td>\n",
       "      <td>-0.030741</td>\n",
       "      <td>-0.002928</td>\n",
       "      <td>-0.003904</td>\n",
       "    </tr>\n",
       "    <tr>\n",
       "      <th>12726174</th>\n",
       "      <td>1424778553346</td>\n",
       "      <td>1.379043</td>\n",
       "      <td>0.153227</td>\n",
       "      <td>9.806528</td>\n",
       "      <td>i</td>\n",
       "      <td>bike</td>\n",
       "      <td>-0.011215</td>\n",
       "      <td>0.006454</td>\n",
       "      <td>0.007446</td>\n",
       "    </tr>\n",
       "  </tbody>\n",
       "</table>\n",
       "<p>12726175 rows × 9 columns</p>\n",
       "</div>"
      ],
      "text/plain": [
       "           Arrival_Time     acc_x     acc_y     acc_z User  label    gyro_x  \\\n",
       "0         1424696633908 -5.958191  0.688065  8.135345    a  stand  0.024129   \n",
       "1         1424696633909 -5.952240  0.670212  8.136536    a  stand  0.013748   \n",
       "2         1424696633909 -5.952240  0.670212  8.136536    a  stand  0.014816   \n",
       "3         1424696633918 -5.995087  0.653549  8.204376    a  stand  0.015884   \n",
       "4         1424696633918 -5.995087  0.653549  8.204376    a  stand  0.023518   \n",
       "...                 ...       ...       ...       ...  ...    ...       ...   \n",
       "12726170  1424778553235  1.532270  0.000000  9.806528    i   bike -0.017624   \n",
       "12726171  1424778553256  1.379043  0.000000  9.959755    i   bike -0.032693   \n",
       "12726172  1424778553286  1.532270  0.153227  9.959755    i   bike -0.031717   \n",
       "12726173  1424778553306  1.379043  0.000000  9.959755    i   bike -0.030741   \n",
       "12726174  1424778553346  1.379043  0.153227  9.806528    i   bike -0.011215   \n",
       "\n",
       "            gyro_y    gyro_z  \n",
       "0        -0.020769  0.008552  \n",
       "1        -0.000626 -0.023376  \n",
       "2        -0.001694 -0.022308  \n",
       "3        -0.001694 -0.021240  \n",
       "4        -0.017410  0.007636  \n",
       "...            ...       ...  \n",
       "12726170  0.005386  0.008514  \n",
       "12726171 -0.012687 -0.008539  \n",
       "12726172 -0.006831 -0.006099  \n",
       "12726173 -0.002928 -0.003904  \n",
       "12726174  0.006454  0.007446  \n",
       "\n",
       "[12726175 rows x 9 columns]"
      ]
     },
     "execution_count": 7,
     "metadata": {},
     "output_type": "execute_result"
    }
   ],
   "source": [
    "df = pd.merge(acc, gyro, how=\"inner\", on=[\"Arrival_Time\", \"User\", \"label\"])\n",
    "df"
   ]
  },
  {
   "cell_type": "code",
   "execution_count": 10,
   "metadata": {},
   "outputs": [],
   "source": [
    "df.to_csv('data/phones.csv')"
   ]
  },
  {
   "cell_type": "code",
   "execution_count": 5,
   "metadata": {},
   "outputs": [],
   "source": [
    "phone = pd.read_csv('data/phones.csv')"
   ]
  },
  {
   "cell_type": "code",
   "execution_count": 6,
   "metadata": {},
   "outputs": [],
   "source": [
    "df = phone.groupby(['User', 'label']).size()"
   ]
  },
  {
   "cell_type": "code",
   "execution_count": 7,
   "metadata": {},
   "outputs": [],
   "source": [
    "df = pd.DataFrame({'count' : df}).reset_index()"
   ]
  },
  {
   "cell_type": "code",
   "execution_count": 8,
   "metadata": {},
   "outputs": [
    {
     "data": {
      "image/png": "[encoded data removed]",
      "text/plain": [
       "<Figure size 531.725x432 with 1 Axes>"
      ]
     },
     "metadata": {},
     "output_type": "display_data"
    }
   ],
   "source": [
    "import seaborn as sns\n",
    "import matplotlib.pyplot as plt\n",
    "\n",
    "sns.set_theme(style=\"whitegrid\")\n",
    "\n",
    "# Draw a nested barplot by species and sex\n",
    "g = sns.catplot(\n",
    "    data=df, kind=\"bar\",\n",
    "    x=\"User\", y=\"count\", hue=\"label\",\n",
    "    ci=\"sd\", palette=\"dark\", alpha=.6, height=6\n",
    ")\n",
    "g.despine(left=True)\n",
    "g.set_axis_labels(\"\", \"Count\")\n",
    "g.legend.set_title(\"\")"
   ]
  },
  {
   "cell_type": "code",
   "execution_count": 9,
   "metadata": {},
   "outputs": [],
   "source": [
    "phone_a = phone.loc[phone['User'] == 'a']"
   ]
  },
  {
   "cell_type": "code",
   "execution_count": 10,
   "metadata": {},
   "outputs": [
    {
     "name": "stdout",
     "output_type": "stream",
     "text": [
      "<class 'pandas.core.frame.DataFrame'>\n",
      "Int64Index: 1395809 entries, 0 to 1395808\n",
      "Data columns (total 9 columns):\n",
      " #   Column        Non-Null Count    Dtype  \n",
      "---  ------        --------------    -----  \n",
      " 0   Arrival_Time  1395809 non-null  int64  \n",
      " 1   acc_x         1395809 non-null  float64\n",
      " 2   acc_y         1395809 non-null  float64\n",
      " 3   acc_z         1395809 non-null  float64\n",
      " 4   User          1395809 non-null  object \n",
      " 5   label         1255717 non-null  object \n",
      " 6   gyro_x        1395809 non-null  float64\n",
      " 7   gyro_y        1395809 non-null  float64\n",
      " 8   gyro_z        1395809 non-null  float64\n",
      "dtypes: float64(6), int64(1), object(2)\n",
      "memory usage: 106.5+ MB\n"
     ]
    },
    {
     "name": "stderr",
     "output_type": "stream",
     "text": [
      "/tmp/ipykernel_469162/2294335862.py:1: FutureWarning: In a future version of pandas all arguments of DataFrame.drop except for the argument 'labels' will be keyword-only\n",
      "  phone_a = phone_a.drop('Unnamed: 0', 1)\n"
     ]
    }
   ],
   "source": [
    "phone_a = phone_a.drop('Unnamed: 0', 1)\n",
    "phone_a.info()"
   ]
  },
  {
   "cell_type": "code",
   "execution_count": 11,
   "metadata": {},
   "outputs": [
    {
     "name": "stdout",
     "output_type": "stream",
     "text": [
      "<class 'pandas.core.frame.DataFrame'>\n",
      "Int64Index: 1255717 entries, 0 to 1395808\n",
      "Data columns (total 9 columns):\n",
      " #   Column        Non-Null Count    Dtype  \n",
      "---  ------        --------------    -----  \n",
      " 0   Arrival_Time  1255717 non-null  int64  \n",
      " 1   acc_x         1255717 non-null  float64\n",
      " 2   acc_y         1255717 non-null  float64\n",
      " 3   acc_z         1255717 non-null  float64\n",
      " 4   User          1255717 non-null  object \n",
      " 5   label         1255717 non-null  object \n",
      " 6   gyro_x        1255717 non-null  float64\n",
      " 7   gyro_y        1255717 non-null  float64\n",
      " 8   gyro_z        1255717 non-null  float64\n",
      "dtypes: float64(6), int64(1), object(2)\n",
      "memory usage: 95.8+ MB\n"
     ]
    }
   ],
   "source": [
    "phone_a = phone_a.dropna()\n",
    "phone_a.info()"
   ]
  },
  {
   "cell_type": "code",
   "execution_count": 12,
   "metadata": {},
   "outputs": [
    {
     "data": {
      "text/html": [
       "<div>\n",
       "<style scoped>\n",
       "    .dataframe tbody tr th:only-of-type {\n",
       "        vertical-align: middle;\n",
       "    }\n",
       "\n",
       "    .dataframe tbody tr th {\n",
       "        vertical-align: top;\n",
       "    }\n",
       "\n",
       "    .dataframe thead th {\n",
       "        text-align: right;\n",
       "    }\n",
       "</style>\n",
       "<table border=\"1\" class=\"dataframe\">\n",
       "  <thead>\n",
       "    <tr style=\"text-align: right;\">\n",
       "      <th></th>\n",
       "      <th>Arrival_Time</th>\n",
       "      <th>acc_x</th>\n",
       "      <th>acc_y</th>\n",
       "      <th>acc_z</th>\n",
       "      <th>User</th>\n",
       "      <th>label</th>\n",
       "      <th>gyro_x</th>\n",
       "      <th>gyro_y</th>\n",
       "      <th>gyro_z</th>\n",
       "    </tr>\n",
       "  </thead>\n",
       "  <tbody>\n",
       "    <tr>\n",
       "      <th>0</th>\n",
       "      <td>1424696633908</td>\n",
       "      <td>-5.958191</td>\n",
       "      <td>0.688065</td>\n",
       "      <td>8.135345</td>\n",
       "      <td>a</td>\n",
       "      <td>stand</td>\n",
       "      <td>0.024129</td>\n",
       "      <td>-0.020769</td>\n",
       "      <td>0.008552</td>\n",
       "    </tr>\n",
       "    <tr>\n",
       "      <th>1</th>\n",
       "      <td>1424696633909</td>\n",
       "      <td>-5.952240</td>\n",
       "      <td>0.670212</td>\n",
       "      <td>8.136536</td>\n",
       "      <td>a</td>\n",
       "      <td>stand</td>\n",
       "      <td>0.013748</td>\n",
       "      <td>-0.000626</td>\n",
       "      <td>-0.023376</td>\n",
       "    </tr>\n",
       "    <tr>\n",
       "      <th>2</th>\n",
       "      <td>1424696633909</td>\n",
       "      <td>-5.952240</td>\n",
       "      <td>0.670212</td>\n",
       "      <td>8.136536</td>\n",
       "      <td>a</td>\n",
       "      <td>stand</td>\n",
       "      <td>0.014816</td>\n",
       "      <td>-0.001694</td>\n",
       "      <td>-0.022308</td>\n",
       "    </tr>\n",
       "    <tr>\n",
       "      <th>3</th>\n",
       "      <td>1424696633918</td>\n",
       "      <td>-5.995087</td>\n",
       "      <td>0.653549</td>\n",
       "      <td>8.204376</td>\n",
       "      <td>a</td>\n",
       "      <td>stand</td>\n",
       "      <td>0.015884</td>\n",
       "      <td>-0.001694</td>\n",
       "      <td>-0.021240</td>\n",
       "    </tr>\n",
       "    <tr>\n",
       "      <th>4</th>\n",
       "      <td>1424696633918</td>\n",
       "      <td>-5.995087</td>\n",
       "      <td>0.653549</td>\n",
       "      <td>8.204376</td>\n",
       "      <td>a</td>\n",
       "      <td>stand</td>\n",
       "      <td>0.023518</td>\n",
       "      <td>-0.017410</td>\n",
       "      <td>0.007636</td>\n",
       "    </tr>\n",
       "    <tr>\n",
       "      <th>...</th>\n",
       "      <td>...</td>\n",
       "      <td>...</td>\n",
       "      <td>...</td>\n",
       "      <td>...</td>\n",
       "      <td>...</td>\n",
       "      <td>...</td>\n",
       "      <td>...</td>\n",
       "      <td>...</td>\n",
       "      <td>...</td>\n",
       "    </tr>\n",
       "    <tr>\n",
       "      <th>1395804</th>\n",
       "      <td>1424698517360</td>\n",
       "      <td>6.895215</td>\n",
       "      <td>-1.685497</td>\n",
       "      <td>7.661350</td>\n",
       "      <td>a</td>\n",
       "      <td>bike</td>\n",
       "      <td>-0.132237</td>\n",
       "      <td>-0.711931</td>\n",
       "      <td>-0.464780</td>\n",
       "    </tr>\n",
       "    <tr>\n",
       "      <th>1395805</th>\n",
       "      <td>1424698517369</td>\n",
       "      <td>7.048442</td>\n",
       "      <td>-1.685497</td>\n",
       "      <td>7.661350</td>\n",
       "      <td>a</td>\n",
       "      <td>bike</td>\n",
       "      <td>0.294037</td>\n",
       "      <td>0.648132</td>\n",
       "      <td>-0.272675</td>\n",
       "    </tr>\n",
       "    <tr>\n",
       "      <th>1395806</th>\n",
       "      <td>1424698517369</td>\n",
       "      <td>7.048442</td>\n",
       "      <td>-1.685497</td>\n",
       "      <td>7.661350</td>\n",
       "      <td>a</td>\n",
       "      <td>bike</td>\n",
       "      <td>0.157791</td>\n",
       "      <td>0.748367</td>\n",
       "      <td>-0.664948</td>\n",
       "    </tr>\n",
       "    <tr>\n",
       "      <th>1395807</th>\n",
       "      <td>1424698517369</td>\n",
       "      <td>7.048442</td>\n",
       "      <td>-1.685497</td>\n",
       "      <td>7.661350</td>\n",
       "      <td>a</td>\n",
       "      <td>bike</td>\n",
       "      <td>0.110261</td>\n",
       "      <td>0.249844</td>\n",
       "      <td>0.091630</td>\n",
       "    </tr>\n",
       "    <tr>\n",
       "      <th>1395808</th>\n",
       "      <td>1424698517410</td>\n",
       "      <td>7.048442</td>\n",
       "      <td>-1.532270</td>\n",
       "      <td>7.508123</td>\n",
       "      <td>a</td>\n",
       "      <td>bike</td>\n",
       "      <td>-0.188352</td>\n",
       "      <td>-0.678506</td>\n",
       "      <td>-0.500401</td>\n",
       "    </tr>\n",
       "  </tbody>\n",
       "</table>\n",
       "<p>1255717 rows × 9 columns</p>\n",
       "</div>"
      ],
      "text/plain": [
       "          Arrival_Time     acc_x     acc_y     acc_z User  label    gyro_x  \\\n",
       "0        1424696633908 -5.958191  0.688065  8.135345    a  stand  0.024129   \n",
       "1        1424696633909 -5.952240  0.670212  8.136536    a  stand  0.013748   \n",
       "2        1424696633909 -5.952240  0.670212  8.136536    a  stand  0.014816   \n",
       "3        1424696633918 -5.995087  0.653549  8.204376    a  stand  0.015884   \n",
       "4        1424696633918 -5.995087  0.653549  8.204376    a  stand  0.023518   \n",
       "...                ...       ...       ...       ...  ...    ...       ...   \n",
       "1395804  1424698517360  6.895215 -1.685497  7.661350    a   bike -0.132237   \n",
       "1395805  1424698517369  7.048442 -1.685497  7.661350    a   bike  0.294037   \n",
       "1395806  1424698517369  7.048442 -1.685497  7.661350    a   bike  0.157791   \n",
       "1395807  1424698517369  7.048442 -1.685497  7.661350    a   bike  0.110261   \n",
       "1395808  1424698517410  7.048442 -1.532270  7.508123    a   bike -0.188352   \n",
       "\n",
       "           gyro_y    gyro_z  \n",
       "0       -0.020769  0.008552  \n",
       "1       -0.000626 -0.023376  \n",
       "2       -0.001694 -0.022308  \n",
       "3       -0.001694 -0.021240  \n",
       "4       -0.017410  0.007636  \n",
       "...           ...       ...  \n",
       "1395804 -0.711931 -0.464780  \n",
       "1395805  0.648132 -0.272675  \n",
       "1395806  0.748367 -0.664948  \n",
       "1395807  0.249844  0.091630  \n",
       "1395808 -0.678506 -0.500401  \n",
       "\n",
       "[1255717 rows x 9 columns]"
      ]
     },
     "execution_count": 12,
     "metadata": {},
     "output_type": "execute_result"
    }
   ],
   "source": [
    "phone_a"
   ]
  },
  {
   "cell_type": "code",
   "execution_count": 13,
   "metadata": {},
   "outputs": [
    {
     "data": {
      "text/plain": [
       "label       User\n",
       "bike        a       162626\n",
       "sit         a       268788\n",
       "stairsdown  a       168575\n",
       "stairsup    a       198806\n",
       "stand       a       237528\n",
       "walk        a       219394\n",
       "dtype: int64"
      ]
     },
     "execution_count": 13,
     "metadata": {},
     "output_type": "execute_result"
    }
   ],
   "source": [
    "phone_a.groupby(['label', 'User']).size()"
   ]
  },
  {
   "cell_type": "code",
   "execution_count": 47,
   "metadata": {},
   "outputs": [
    {
     "data": {
      "text/plain": [
       "label       User\n",
       "bike        a       8000\n",
       "sit         a       8000\n",
       "stairsdown  a       8000\n",
       "stairsup    a       8000\n",
       "stand       a       8000\n",
       "walk        a       8000\n",
       "dtype: int64"
      ]
     },
     "execution_count": 47,
     "metadata": {},
     "output_type": "execute_result"
    }
   ],
   "source": [
    "phone_a = phone_a.groupby(['label', 'User']).head(8000).reset_index(drop=True)\n",
    "phone_a.groupby(['label', 'User']).size()"
   ]
  },
  {
   "cell_type": "code",
   "execution_count": 15,
   "metadata": {},
   "outputs": [],
   "source": [
    "phone_a.to_csv('data/phones_user_a.csv')"
   ]
  },
  {
   "cell_type": "code",
   "execution_count": 16,
   "metadata": {},
   "outputs": [],
   "source": [
    "X = phone_a[['acc_x', 'acc_y', 'acc_z', 'gyro_x', 'gyro_y', 'gyro_z']]"
   ]
  },
  {
   "cell_type": "code",
   "execution_count": 17,
   "metadata": {},
   "outputs": [],
   "source": [
    "y = phone_a[['label']]"
   ]
  },
  {
   "cell_type": "code",
   "execution_count": 18,
   "metadata": {},
   "outputs": [
    {
     "data": {
      "text/plain": [
       "(48000, 6)"
      ]
     },
     "execution_count": 18,
     "metadata": {},
     "output_type": "execute_result"
    }
   ],
   "source": [
    "# one hot encoding by pandas\n",
    "y = pd.get_dummies(data=y, columns=['label'])\n",
    "y.shape"
   ]
  },
  {
   "cell_type": "code",
   "execution_count": 19,
   "metadata": {},
   "outputs": [],
   "source": [
    "#from sklearn.preprocessing import LabelEncoder\n",
    "\n",
    "#def encode_df(dataframe):\n",
    "#    le = LabelEncoder()\n",
    "#    for column in dataframe.columns:\n",
    "#        dataframe[column] = le.fit_transform(dataframe[column])\n",
    "#    return dataframe\n",
    "\n",
    "#encode the dataframe\n",
    "#encode_df(y)\n",
    "#y"
   ]
  },
  {
   "cell_type": "code",
   "execution_count": 20,
   "metadata": {},
   "outputs": [],
   "source": [
    "#from sklearn.model_selection import train_test_split\n",
    "\n",
    "#X_train, X_test, y_train, y_test = train_test_split(X, y, test_size=0.2, stratify=y, random_state=42)"
   ]
  },
  {
   "cell_type": "code",
   "execution_count": 21,
   "metadata": {},
   "outputs": [],
   "source": [
    "from sklearn.model_selection import TimeSeriesSplit\n",
    "tscv = TimeSeriesSplit()\n",
    "\n",
    "for train_index, test_index in tscv.split(X):\n",
    "    X_train, X_test = (X.to_numpy())[train_index], (X.to_numpy())[test_index]\n",
    "    y_train, y_test = (y.to_numpy())[train_index], (y.to_numpy())[test_index]"
   ]
  },
  {
   "cell_type": "code",
   "execution_count": 22,
   "metadata": {},
   "outputs": [
    {
     "data": {
      "text/plain": [
       "(40000, 6)"
      ]
     },
     "execution_count": 22,
     "metadata": {},
     "output_type": "execute_result"
    }
   ],
   "source": [
    "X_train.shape"
   ]
  },
  {
   "cell_type": "code",
   "execution_count": 23,
   "metadata": {},
   "outputs": [
    {
     "data": {
      "text/plain": [
       "(40000, 6)"
      ]
     },
     "execution_count": 23,
     "metadata": {},
     "output_type": "execute_result"
    }
   ],
   "source": [
    "y_train.shape"
   ]
  },
  {
   "cell_type": "code",
   "execution_count": 24,
   "metadata": {},
   "outputs": [
    {
     "data": {
      "text/plain": [
       "(8000, 6)"
      ]
     },
     "execution_count": 24,
     "metadata": {},
     "output_type": "execute_result"
    }
   ],
   "source": [
    "X_test.shape"
   ]
  },
  {
   "cell_type": "code",
   "execution_count": 25,
   "metadata": {},
   "outputs": [
    {
     "data": {
      "text/plain": [
       "(8000, 6)"
      ]
     },
     "execution_count": 25,
     "metadata": {},
     "output_type": "execute_result"
    }
   ],
   "source": [
    "y_test.shape"
   ]
  },
  {
   "cell_type": "code",
   "execution_count": 26,
   "metadata": {},
   "outputs": [
    {
     "data": {
      "text/plain": [
       "40000"
      ]
     },
     "execution_count": 26,
     "metadata": {},
     "output_type": "execute_result"
    }
   ],
   "source": [
    "n_rows = X_train.shape[0]\n",
    "n_cols = X_train.shape[1]\n",
    "n_samples_train = int(n_rows/400)\n",
    "n_samples_train = n_samples_train * 400\n",
    "n_samples_train"
   ]
  },
  {
   "cell_type": "code",
   "execution_count": 27,
   "metadata": {},
   "outputs": [
    {
     "data": {
      "text/plain": [
       "8000"
      ]
     },
     "execution_count": 27,
     "metadata": {},
     "output_type": "execute_result"
    }
   ],
   "source": [
    "n_rows = X_test.shape[0]\n",
    "n_cols = X_test.shape[1]\n",
    "n_samples_test = int(n_rows/400)\n",
    "n_samples_test = n_samples_test * 400\n",
    "n_samples_test"
   ]
  },
  {
   "cell_type": "code",
   "execution_count": 28,
   "metadata": {},
   "outputs": [
    {
     "data": {
      "text/plain": [
       "(40000, 6)"
      ]
     },
     "execution_count": 28,
     "metadata": {},
     "output_type": "execute_result"
    }
   ],
   "source": [
    "X_train = X_train[:n_samples_train,:]\n",
    "X_train.shape"
   ]
  },
  {
   "cell_type": "code",
   "execution_count": 29,
   "metadata": {},
   "outputs": [],
   "source": [
    "np.savetxt(\"data/X_train.csv\", X_train, delimiter=\",\")\n",
    "np.save('data/X_train.npy', X_train)"
   ]
  },
  {
   "cell_type": "code",
   "execution_count": 30,
   "metadata": {},
   "outputs": [
    {
     "data": {
      "text/plain": [
       "(8000, 6)"
      ]
     },
     "execution_count": 30,
     "metadata": {},
     "output_type": "execute_result"
    }
   ],
   "source": [
    "X_test = X_test[:n_samples_test,:]\n",
    "X_test.shape"
   ]
  },
  {
   "cell_type": "code",
   "execution_count": 31,
   "metadata": {},
   "outputs": [],
   "source": [
    "np.savetxt(\"data/X_test.csv\", X_test, delimiter=\",\")\n",
    "np.save('data/X_test.npy', X_test)"
   ]
  },
  {
   "cell_type": "code",
   "execution_count": 32,
   "metadata": {},
   "outputs": [
    {
     "data": {
      "text/plain": [
       "(40000, 6)"
      ]
     },
     "execution_count": 32,
     "metadata": {},
     "output_type": "execute_result"
    }
   ],
   "source": [
    "y_train = y_train[:n_samples_train,:]\n",
    "y_train.shape"
   ]
  },
  {
   "cell_type": "code",
   "execution_count": 33,
   "metadata": {},
   "outputs": [],
   "source": [
    "np.savetxt(\"data/y_train.csv\", y_train, delimiter=\",\")\n",
    "np.save('data/y_train.npy', y_train)"
   ]
  },
  {
   "cell_type": "code",
   "execution_count": 34,
   "metadata": {},
   "outputs": [
    {
     "data": {
      "text/plain": [
       "(8000, 6)"
      ]
     },
     "execution_count": 34,
     "metadata": {},
     "output_type": "execute_result"
    }
   ],
   "source": [
    "y_test = y_test[:n_samples_test,:]\n",
    "y_test.shape"
   ]
  },
  {
   "cell_type": "code",
   "execution_count": 35,
   "metadata": {},
   "outputs": [],
   "source": [
    "np.savetxt(\"data/y_test.csv\", y_test, delimiter=\",\")\n",
    "np.save('data/y_test.npy', y_test)"
   ]
  },
  {
   "cell_type": "code",
   "execution_count": 36,
   "metadata": {},
   "outputs": [
    {
     "data": {
      "text/plain": [
       "(40000, 6)"
      ]
     },
     "execution_count": 36,
     "metadata": {},
     "output_type": "execute_result"
    }
   ],
   "source": [
    "labels = y_train\n",
    "labels.shape"
   ]
  },
  {
   "cell_type": "code",
   "execution_count": 37,
   "metadata": {},
   "outputs": [
    {
     "data": {
      "text/plain": [
       "(40000, 6)"
      ]
     },
     "execution_count": 37,
     "metadata": {},
     "output_type": "execute_result"
    }
   ],
   "source": [
    "n_instances = labels.shape[0]\n",
    "n_attributes = labels.shape[1]\n",
    "labels = labels.reshape(n_instances, n_attributes)\n",
    "labels.shape"
   ]
  },
  {
   "cell_type": "code",
   "execution_count": 38,
   "metadata": {
    "id": "J74MP16t4gYu"
   },
   "outputs": [
    {
     "data": {
      "text/plain": [
       "40000"
      ]
     },
     "execution_count": 38,
     "metadata": {},
     "output_type": "execute_result"
    }
   ],
   "source": [
    "n_rows = X_train.shape[0]\n",
    "n_cols = X_train.shape[1]\n",
    "seg_shape = int(n_rows/400)\n",
    "seg_shape = seg_shape * 400\n",
    "seg_shape"
   ]
  },
  {
   "cell_type": "code",
   "execution_count": 39,
   "metadata": {},
   "outputs": [],
   "source": [
    "def windows(d, w, t):  \n",
    "    r = np.arange(len(d))   \n",
    "    s = r[::t]   \n",
    "    z = list(zip(s, s + w))   \n",
    "    f = '{0[0]}:{0[1]}'.format\n",
    "    g = lambda t: d.iloc[t[0]:t[1]]   \n",
    "    return pd.concat(map(g, z), keys=map(f, z))  "
   ]
  },
  {
   "cell_type": "code",
   "execution_count": 40,
   "metadata": {},
   "outputs": [],
   "source": [
    "df = pd.DataFrame(X_train, columns = ['acc_x', 'acc_y', 'acc_z', 'gyro_x', 'gyro_y', 'gyro_z'])"
   ]
  },
  {
   "cell_type": "code",
   "execution_count": 41,
   "metadata": {},
   "outputs": [
    {
     "data": {
      "text/html": [
       "<div>\n",
       "<style scoped>\n",
       "    .dataframe tbody tr th:only-of-type {\n",
       "        vertical-align: middle;\n",
       "    }\n",
       "\n",
       "    .dataframe tbody tr th {\n",
       "        vertical-align: top;\n",
       "    }\n",
       "\n",
       "    .dataframe thead th {\n",
       "        text-align: right;\n",
       "    }\n",
       "</style>\n",
       "<table border=\"1\" class=\"dataframe\">\n",
       "  <thead>\n",
       "    <tr style=\"text-align: right;\">\n",
       "      <th></th>\n",
       "      <th></th>\n",
       "      <th>acc_x</th>\n",
       "      <th>acc_y</th>\n",
       "      <th>acc_z</th>\n",
       "      <th>gyro_x</th>\n",
       "      <th>gyro_y</th>\n",
       "      <th>gyro_z</th>\n",
       "    </tr>\n",
       "  </thead>\n",
       "  <tbody>\n",
       "    <tr>\n",
       "      <th rowspan=\"5\" valign=\"top\">0:400</th>\n",
       "      <th>0</th>\n",
       "      <td>-5.958191</td>\n",
       "      <td>0.688065</td>\n",
       "      <td>8.135345</td>\n",
       "      <td>0.024129</td>\n",
       "      <td>-0.020769</td>\n",
       "      <td>0.008552</td>\n",
       "    </tr>\n",
       "    <tr>\n",
       "      <th>1</th>\n",
       "      <td>-5.952240</td>\n",
       "      <td>0.670212</td>\n",
       "      <td>8.136536</td>\n",
       "      <td>0.013748</td>\n",
       "      <td>-0.000626</td>\n",
       "      <td>-0.023376</td>\n",
       "    </tr>\n",
       "    <tr>\n",
       "      <th>2</th>\n",
       "      <td>-5.952240</td>\n",
       "      <td>0.670212</td>\n",
       "      <td>8.136536</td>\n",
       "      <td>0.014816</td>\n",
       "      <td>-0.001694</td>\n",
       "      <td>-0.022308</td>\n",
       "    </tr>\n",
       "    <tr>\n",
       "      <th>3</th>\n",
       "      <td>-5.995087</td>\n",
       "      <td>0.653549</td>\n",
       "      <td>8.204376</td>\n",
       "      <td>0.015884</td>\n",
       "      <td>-0.001694</td>\n",
       "      <td>-0.021240</td>\n",
       "    </tr>\n",
       "    <tr>\n",
       "      <th>4</th>\n",
       "      <td>-5.995087</td>\n",
       "      <td>0.653549</td>\n",
       "      <td>8.204376</td>\n",
       "      <td>0.023518</td>\n",
       "      <td>-0.017410</td>\n",
       "      <td>0.007636</td>\n",
       "    </tr>\n",
       "    <tr>\n",
       "      <th>...</th>\n",
       "      <th>...</th>\n",
       "      <td>...</td>\n",
       "      <td>...</td>\n",
       "      <td>...</td>\n",
       "      <td>...</td>\n",
       "      <td>...</td>\n",
       "      <td>...</td>\n",
       "    </tr>\n",
       "    <tr>\n",
       "      <th rowspan=\"2\" valign=\"top\">39997:40397</th>\n",
       "      <th>39998</th>\n",
       "      <td>-5.786804</td>\n",
       "      <td>-0.921066</td>\n",
       "      <td>10.832306</td>\n",
       "      <td>-0.123596</td>\n",
       "      <td>0.236908</td>\n",
       "      <td>0.222931</td>\n",
       "    </tr>\n",
       "    <tr>\n",
       "      <th>39999</th>\n",
       "      <td>-5.786804</td>\n",
       "      <td>-0.921066</td>\n",
       "      <td>10.832306</td>\n",
       "      <td>-0.170593</td>\n",
       "      <td>0.246521</td>\n",
       "      <td>0.194092</td>\n",
       "    </tr>\n",
       "    <tr>\n",
       "      <th rowspan=\"2\" valign=\"top\">39998:40398</th>\n",
       "      <th>39998</th>\n",
       "      <td>-5.786804</td>\n",
       "      <td>-0.921066</td>\n",
       "      <td>10.832306</td>\n",
       "      <td>-0.123596</td>\n",
       "      <td>0.236908</td>\n",
       "      <td>0.222931</td>\n",
       "    </tr>\n",
       "    <tr>\n",
       "      <th>39999</th>\n",
       "      <td>-5.786804</td>\n",
       "      <td>-0.921066</td>\n",
       "      <td>10.832306</td>\n",
       "      <td>-0.170593</td>\n",
       "      <td>0.246521</td>\n",
       "      <td>0.194092</td>\n",
       "    </tr>\n",
       "    <tr>\n",
       "      <th>39999:40399</th>\n",
       "      <th>39999</th>\n",
       "      <td>-5.786804</td>\n",
       "      <td>-0.921066</td>\n",
       "      <td>10.832306</td>\n",
       "      <td>-0.170593</td>\n",
       "      <td>0.246521</td>\n",
       "      <td>0.194092</td>\n",
       "    </tr>\n",
       "  </tbody>\n",
       "</table>\n",
       "<p>15920200 rows × 6 columns</p>\n",
       "</div>"
      ],
      "text/plain": [
       "                      acc_x     acc_y      acc_z    gyro_x    gyro_y    gyro_z\n",
       "0:400       0     -5.958191  0.688065   8.135345  0.024129 -0.020769  0.008552\n",
       "            1     -5.952240  0.670212   8.136536  0.013748 -0.000626 -0.023376\n",
       "            2     -5.952240  0.670212   8.136536  0.014816 -0.001694 -0.022308\n",
       "            3     -5.995087  0.653549   8.204376  0.015884 -0.001694 -0.021240\n",
       "            4     -5.995087  0.653549   8.204376  0.023518 -0.017410  0.007636\n",
       "...                     ...       ...        ...       ...       ...       ...\n",
       "39997:40397 39998 -5.786804 -0.921066  10.832306 -0.123596  0.236908  0.222931\n",
       "            39999 -5.786804 -0.921066  10.832306 -0.170593  0.246521  0.194092\n",
       "39998:40398 39998 -5.786804 -0.921066  10.832306 -0.123596  0.236908  0.222931\n",
       "            39999 -5.786804 -0.921066  10.832306 -0.170593  0.246521  0.194092\n",
       "39999:40399 39999 -5.786804 -0.921066  10.832306 -0.170593  0.246521  0.194092\n",
       "\n",
       "[15920200 rows x 6 columns]"
      ]
     },
     "execution_count": 41,
     "metadata": {},
     "output_type": "execute_result"
    }
   ],
   "source": [
    "segments = windows(df, 400, 1)\n",
    "segments"
   ]
  },
  {
   "cell_type": "code",
   "execution_count": 42,
   "metadata": {},
   "outputs": [
    {
     "data": {
      "text/plain": [
       "(15920000, 6)"
      ]
     },
     "execution_count": 42,
     "metadata": {},
     "output_type": "execute_result"
    }
   ],
   "source": [
    "n_samples = int(segments.shape[0]/400) * 400\n",
    "segments = segments.head(n_samples)\n",
    "segments.shape"
   ]
  },
  {
   "cell_type": "code",
   "execution_count": 43,
   "metadata": {},
   "outputs": [
    {
     "data": {
      "text/plain": [
       "(39800, 400, 6)"
      ]
     },
     "execution_count": 43,
     "metadata": {},
     "output_type": "execute_result"
    }
   ],
   "source": [
    "n_attributes = segments.shape[1]\n",
    "X_train_windowed = (segments.to_numpy()).reshape(n_samples, 400, n_attributes)\n",
    "X_train_windowed.shape"
   ]
  },
  {
   "cell_type": "code",
   "execution_count": 44,
   "metadata": {},
   "outputs": [],
   "source": [
    "np.save('data/X_train.npy', X_train_windowed)"
   ]
  },
  {
   "cell_type": "code",
   "execution_count": 45,
   "metadata": {},
   "outputs": [
    {
     "data": {
      "text/plain": [
       "(40000, 6)"
      ]
     },
     "execution_count": 45,
     "metadata": {},
     "output_type": "execute_result"
    }
   ],
   "source": [
    "y_train\n",
    "y_train.shape"
   ]
  },
  {
   "cell_type": "code",
   "execution_count": 46,
   "metadata": {},
   "outputs": [
    {
     "data": {
      "text/plain": [
       "(39800, 6)"
      ]
     },
     "execution_count": 46,
     "metadata": {},
     "output_type": "execute_result"
    }
   ],
   "source": [
    "labels = y_train[:X_train_windowed.shape[0],:]\n",
    "labels.shape"
   ]
  },
  {
   "cell_type": "code",
   "execution_count": 52,
   "metadata": {},
   "outputs": [
    {
     "data": {
      "text/plain": [
       "array([[0, 0, 0, 0, 1, 0],\n",
       "       [0, 0, 0, 0, 1, 0],\n",
       "       [0, 0, 0, 0, 1, 0],\n",
       "       ...,\n",
       "       [0, 0, 0, 1, 0, 0],\n",
       "       [0, 0, 0, 1, 0, 0],\n",
       "       [0, 0, 0, 1, 0, 0]], dtype=uint8)"
      ]
     },
     "execution_count": 52,
     "metadata": {},
     "output_type": "execute_result"
    }
   ],
   "source": [
    "np.save('data/y_train.npy', labels)\n",
    "labels"
   ]
  },
  {
   "cell_type": "code",
   "execution_count": 48,
   "metadata": {
    "id": "_teJQ4xB7Owa"
   },
   "outputs": [
    {
     "name": "stderr",
     "output_type": "stream",
     "text": [
      "2022-02-28 19:10:31.199460: I tensorflow/stream_executor/cuda/cuda_gpu_executor.cc:939] successful NUMA node read from SysFS had negative value (-1), but there must be at least one NUMA node, so returning NUMA node zero\n",
      "2022-02-28 19:10:31.262545: W tensorflow/stream_executor/platform/default/dso_loader.cc:64] Could not load dynamic library 'libcudnn.so.8'; dlerror: libcudnn.so.8: cannot open shared object file: No such file or directory\n",
      "2022-02-28 19:10:31.262561: W tensorflow/core/common_runtime/gpu/gpu_device.cc:1850] Cannot dlopen some GPU libraries. Please make sure the missing libraries mentioned above are installed properly if you would like to use GPU. Follow the guide at https://www.tensorflow.org/install/gpu for how to download and setup the required libraries for your platform.\n",
      "Skipping registering GPU devices...\n",
      "2022-02-28 19:10:31.262934: I tensorflow/core/platform/cpu_feature_guard.cc:151] This TensorFlow binary is optimized with oneAPI Deep Neural Network Library (oneDNN) to use the following CPU instructions in performance-critical operations:  AVX2 FMA\n",
      "To enable them in other operations, rebuild TensorFlow with the appropriate compiler flags.\n"
     ]
    }
   ],
   "source": [
    "tf.keras.backend.clear_session()\n",
    "\n",
    "input = Input(shape=(2400,))\n",
    "reshape_input = Reshape((1, 400, 6))(input)\n",
    "\n",
    "x = Conv2D(32, kernel_size = (1, 24), \n",
    "        strides = (1, 1),  \n",
    "        activation = \"relu\", \n",
    "        padding = \"valid\", \n",
    "        kernel_regularizer = l2(1e-4))(reshape_input)\n",
    "x = MaxPool2D((1, 4), (1, 2))(x)\n",
    "\n",
    "x = Conv2D(64, kernel_size = (1, 16), \n",
    "        strides = (1, 1), \n",
    "        activation = \"relu\", \n",
    "        padding = \"valid\", \n",
    "        kernel_regularizer = l2(1e-4))(x)\n",
    "x = MaxPool2D((1, 4), (1, 2))(x)\n",
    "\n",
    "x = Conv2D(96, kernel_size = (1, 8), \n",
    "        strides = (1, 1), \n",
    "        activation = \"relu\", \n",
    "        padding = \"valid\", \n",
    "        kernel_regularizer = l2(1e-4))(x)\n",
    "x = MaxPool2D((1, 4), (1, 2))(x)\n",
    "\n",
    "x = Conv2D(128, kernel_size = (1, 4), \n",
    "        strides = (1, 1), \n",
    "        activation = \"relu\", \n",
    "        padding = \"valid\", \n",
    "        kernel_regularizer = l2(1e-4),\n",
    "        name=\"encoder\")(x)        \n",
    "x = Flatten()(x)\n",
    "output = Dense(6, activation = \"softmax\")(x)\n",
    "\n",
    "model = Model(input, output)\n",
    "model.compile(optimizer = Adam(3e-4), \n",
    "              loss = \"categorical_crossentropy\",\n",
    "              metrics = [\"categorical_accuracy\"])"
   ]
  },
  {
   "cell_type": "code",
   "execution_count": 49,
   "metadata": {
    "id": "G89Qn8kfOwS3",
    "tags": []
   },
   "outputs": [
    {
     "data": {
      "text/plain": [
       "(39800, 2400)"
      ]
     },
     "execution_count": 49,
     "metadata": {},
     "output_type": "execute_result"
    }
   ],
   "source": [
    "segments_reshaped = X_train_windowed.reshape(-1, 2400)\n",
    "segments_reshaped.shape"
   ]
  },
  {
   "cell_type": "code",
   "execution_count": 50,
   "metadata": {
    "tags": []
   },
   "outputs": [
    {
     "name": "stderr",
     "output_type": "stream",
     "text": [
      "2022-02-28 19:10:39.736246: W tensorflow/core/framework/cpu_allocator_impl.cc:82] Allocation of 382080000 exceeds 10% of free system memory.\n",
      "/home/ale/.local/lib/python3.8/site-packages/tensorflow/python/data/ops/dataset_ops.py:4526: UserWarning: Even though the `tf.config.experimental_run_functions_eagerly` option is set, this option does not apply to tf.data functions. To force eager execution of tf.data functions, please use `tf.data.experimental.enable_debug_mode()`.\n",
      "  warnings.warn(\n"
     ]
    },
    {
     "name": "stdout",
     "output_type": "stream",
     "text": [
      "Epoch 1/20\n",
      "1244/1244 - 36s - loss: 0.1071 - categorical_accuracy: 0.9706 - 36s/epoch - 29ms/step\n",
      "Epoch 2/20\n",
      "1244/1244 - 36s - loss: 0.0225 - categorical_accuracy: 0.9984 - 36s/epoch - 29ms/step\n",
      "Epoch 3/20\n",
      "1244/1244 - 36s - loss: 0.0294 - categorical_accuracy: 0.9960 - 36s/epoch - 29ms/step\n",
      "Epoch 4/20\n",
      "1244/1244 - 36s - loss: 0.0234 - categorical_accuracy: 0.9978 - 36s/epoch - 29ms/step\n",
      "Epoch 5/20\n",
      "1244/1244 - 36s - loss: 0.0181 - categorical_accuracy: 0.9990 - 36s/epoch - 29ms/step\n",
      "Epoch 6/20\n",
      "1244/1244 - 35s - loss: 0.0254 - categorical_accuracy: 0.9976 - 35s/epoch - 28ms/step\n",
      "Epoch 7/20\n",
      "1244/1244 - 36s - loss: 0.0148 - categorical_accuracy: 0.9995 - 36s/epoch - 29ms/step\n",
      "Epoch 8/20\n",
      "1244/1244 - 35s - loss: 0.0180 - categorical_accuracy: 0.9983 - 35s/epoch - 28ms/step\n",
      "Epoch 9/20\n",
      "1244/1244 - 35s - loss: 0.0192 - categorical_accuracy: 0.9977 - 35s/epoch - 28ms/step\n",
      "Epoch 10/20\n",
      "1244/1244 - 35s - loss: 0.0133 - categorical_accuracy: 0.9993 - 35s/epoch - 28ms/step\n",
      "Epoch 11/20\n",
      "1244/1244 - 35s - loss: 0.0124 - categorical_accuracy: 0.9993 - 35s/epoch - 28ms/step\n",
      "Epoch 12/20\n",
      "1244/1244 - 35s - loss: 0.0155 - categorical_accuracy: 0.9983 - 35s/epoch - 28ms/step\n",
      "Epoch 13/20\n",
      "1244/1244 - 35s - loss: 0.0107 - categorical_accuracy: 0.9994 - 35s/epoch - 28ms/step\n",
      "Epoch 14/20\n",
      "1244/1244 - 35s - loss: 0.0114 - categorical_accuracy: 0.9989 - 35s/epoch - 28ms/step\n",
      "Epoch 15/20\n",
      "1244/1244 - 35s - loss: 0.0091 - categorical_accuracy: 0.9996 - 35s/epoch - 28ms/step\n",
      "Epoch 16/20\n",
      "1244/1244 - 35s - loss: 0.0102 - categorical_accuracy: 0.9993 - 35s/epoch - 28ms/step\n",
      "Epoch 17/20\n",
      "1244/1244 - 35s - loss: 0.0079 - categorical_accuracy: 0.9997 - 35s/epoch - 28ms/step\n",
      "Epoch 18/20\n",
      "1244/1244 - 35s - loss: 0.0095 - categorical_accuracy: 0.9989 - 35s/epoch - 28ms/step\n",
      "Epoch 19/20\n",
      "1244/1244 - 35s - loss: 0.0073 - categorical_accuracy: 0.9996 - 35s/epoch - 28ms/step\n",
      "Epoch 20/20\n",
      "1244/1244 - 35s - loss: 0.0078 - categorical_accuracy: 0.9994 - 35s/epoch - 28ms/step\n"
     ]
    },
    {
     "data": {
      "text/plain": [
       "<keras.callbacks.History at 0x7f76b43b7130>"
      ]
     },
     "execution_count": 50,
     "metadata": {},
     "output_type": "execute_result"
    }
   ],
   "source": [
    "model.fit(segments_reshaped, labels, epochs = 20, \n",
    "          batch_size = 32, verbose = 2)"
   ]
  },
  {
   "cell_type": "code",
   "execution_count": 217,
   "metadata": {
    "id": "xvD35HHQFMKq"
   },
   "outputs": [
    {
     "name": "stdout",
     "output_type": "stream",
     "text": [
      "WARNING:tensorflow:Compiled the loaded model, but the compiled metrics have yet to be built. `model.compile_metrics` will be empty until you train or evaluate the model.\n"
     ]
    },
    {
     "name": "stderr",
     "output_type": "stream",
     "text": [
      "2022-02-28 17:30:38.983905: W tensorflow/python/util/util.cc:368] Sets are not currently considered sequences, but this may change in the future, so consider avoiding using them.\n"
     ]
    },
    {
     "name": "stdout",
     "output_type": "stream",
     "text": [
      "INFO:tensorflow:Assets written to: par_model/assets\n"
     ]
    }
   ],
   "source": [
    "!rm -R par_model\n",
    "!mkdir par_model\n",
    "\n",
    "model = Model(model.input, model.get_layer(\"encoder\").output)\n",
    "tf.keras.models.save_model(model, \"par_model\", \n",
    "                           include_optimizer = False, \n",
    "                           save_format=\"tf\")"
   ]
  },
  {
   "cell_type": "markdown",
   "metadata": {
    "id": "9s24zfUlIuiO"
   },
   "source": [
    "------------------"
   ]
  },
  {
   "cell_type": "code",
   "execution_count": 54,
   "metadata": {
    "id": "vNvyMABWFs_z"
   },
   "outputs": [],
   "source": [
    "from tfltransfer import bases\n",
    "from tfltransfer import heads\n",
    "from tfltransfer import optimizers\n",
    "from tfltransfer.tflite_transfer_converter import TFLiteTransferConverter"
   ]
  },
  {
   "cell_type": "code",
   "execution_count": null,
   "metadata": {},
   "outputs": [],
   "source": [
    "    # --------------- on-device model conversion ---------------- #\n",
    "    \n",
    "    # on-device model configuration.\n",
    "    num_classes = 6\n",
    "    learning_rate = 0.001\n",
    "    batch_size = 5\n",
    "    l2_rate = 0.0001\n",
    "    hidden_units = 128\n",
    "    input_shape = model.get_layer(encoder_layer).output.shape\n",
    "    input_shape = (1, 35,128)\n",
    "\n",
    "    base = bases.SavedModelBase(tflite_model)\n",
    "\n",
    "    head = Sequential([\n",
    "        Flatten(input_shape=input_shape),\n",
    "        Dense(units=hidden_units,\n",
    "            activation=\"relu\",\n",
    "            kernel_regularizer=l2(l2_rate)),\n",
    "        Dense(units=num_classes, \n",
    "            activation=\"softmax\",\n",
    "            kernel_regularizer=l2(l2_rate)),\n",
    "    ])\n",
    "\n",
    "    # Optimizer is ignored by the converter!\n",
    "    head.compile(loss=\"categorical_crossentropy\", optimizer=\"adam\")\n",
    "\n",
    "    converter = TFLiteTransferConverter(num_classes, \n",
    "                base,\n",
    "                heads.KerasModelHead(head),\n",
    "                optimizers.SGD(learning_rate),\n",
    "                train_batch_size=batch_size) \n",
    "    \n",
    "    converter.convert_and_save(tflite_ondevice_model)"
   ]
  },
  {
   "cell_type": "code",
   "execution_count": 59,
   "metadata": {
    "id": "mCj-k_y4FNOF"
   },
   "outputs": [],
   "source": [
    "base = bases.SavedModelBase(\"par_model\")\n",
    "\n",
    "head = Sequential([\n",
    "    Flatten(input_shape=(1, 35, 128)),\n",
    "    Dense(units=128,\n",
    "        activation='relu',\n",
    "        kernel_regularizer=l2(0.0001),\n",
    "        input_shape=(256,)),\n",
    "    Dense(units=2,\n",
    "        activation='softmax',\n",
    "        kernel_regularizer=l2(0.0001)),\n",
    "])\n",
    "\n",
    "# Optimizer is ignored by the converter! See docs.\n",
    "head.compile(loss='categorical_crossentropy', optimizer='adam')"
   ]
  },
  {
   "cell_type": "code",
   "execution_count": 60,
   "metadata": {
    "id": "KavdBsHQG8M8"
   },
   "outputs": [
    {
     "ename": "AttributeError",
     "evalue": "'NoneType' object has no attribute 'op'",
     "output_type": "error",
     "traceback": [
      "\u001b[0;31m---------------------------------------------------------------------------\u001b[0m",
      "\u001b[0;31mAttributeError\u001b[0m                            Traceback (most recent call last)",
      "\u001b[0;32m/tmp/ipykernel_469162/610725618.py\u001b[0m in \u001b[0;36m<module>\u001b[0;34m\u001b[0m\n\u001b[1;32m      5\u001b[0m converter = TFLiteTransferConverter(labels.shape[1],\n\u001b[1;32m      6\u001b[0m               \u001b[0mbase\u001b[0m\u001b[0;34m,\u001b[0m\u001b[0;34m\u001b[0m\u001b[0;34m\u001b[0m\u001b[0m\n\u001b[0;32m----> 7\u001b[0;31m               \u001b[0mheads\u001b[0m\u001b[0;34m.\u001b[0m\u001b[0mKerasModelHead\u001b[0m\u001b[0;34m(\u001b[0m\u001b[0mhead\u001b[0m\u001b[0;34m)\u001b[0m\u001b[0;34m,\u001b[0m\u001b[0;34m\u001b[0m\u001b[0;34m\u001b[0m\u001b[0m\n\u001b[0m\u001b[1;32m      8\u001b[0m               \u001b[0moptimizers\u001b[0m\u001b[0;34m.\u001b[0m\u001b[0mSGD\u001b[0m\u001b[0;34m(\u001b[0m\u001b[0;36m0.001\u001b[0m\u001b[0;34m)\u001b[0m\u001b[0;34m,\u001b[0m\u001b[0;34m\u001b[0m\u001b[0;34m\u001b[0m\u001b[0m\n\u001b[1;32m      9\u001b[0m               train_batch_size=5)\n",
      "\u001b[0;32m~/Documents/Eldorado/HIACC/meta-3/ctxt_id/On-device-activity-recognition/tfltransfer/heads/keras_model_head.py\u001b[0m in \u001b[0;36m__init__\u001b[0;34m(self, keras_model)\u001b[0m\n\u001b[1;32m     41\u001b[0m         \u001b[0;31m# Convert Keras model to SavedModel.\u001b[0m\u001b[0;34m\u001b[0m\u001b[0;34m\u001b[0m\u001b[0;34m\u001b[0m\u001b[0m\n\u001b[1;32m     42\u001b[0m         \u001b[0msaved_model_dir\u001b[0m \u001b[0;34m=\u001b[0m \u001b[0mtempfile\u001b[0m\u001b[0;34m.\u001b[0m\u001b[0mmkdtemp\u001b[0m\u001b[0;34m(\u001b[0m\u001b[0;34m\"tflite-transfer-keras-model\"\u001b[0m\u001b[0;34m)\u001b[0m\u001b[0;34m\u001b[0m\u001b[0;34m\u001b[0m\u001b[0m\n\u001b[0;32m---> 43\u001b[0;31m         \u001b[0mtf\u001b[0m\u001b[0;34m.\u001b[0m\u001b[0mcompat\u001b[0m\u001b[0;34m.\u001b[0m\u001b[0mv1\u001b[0m\u001b[0;34m.\u001b[0m\u001b[0mkeras\u001b[0m\u001b[0;34m.\u001b[0m\u001b[0mexperimental\u001b[0m\u001b[0;34m.\u001b[0m\u001b[0mexport_saved_model\u001b[0m\u001b[0;34m(\u001b[0m\u001b[0mkeras_model\u001b[0m\u001b[0;34m,\u001b[0m \u001b[0msaved_model_dir\u001b[0m\u001b[0;34m)\u001b[0m\u001b[0;34m\u001b[0m\u001b[0;34m\u001b[0m\u001b[0m\n\u001b[0m\u001b[1;32m     44\u001b[0m \u001b[0;34m\u001b[0m\u001b[0m\n\u001b[1;32m     45\u001b[0m         \u001b[0;31m# Pre-fetch some information about the model.\u001b[0m\u001b[0;34m\u001b[0m\u001b[0;34m\u001b[0m\u001b[0;34m\u001b[0m\u001b[0m\n",
      "\u001b[0;32m~/.local/lib/python3.8/site-packages/keras/saving/saved_model_experimental.py\u001b[0m in \u001b[0;36mexport_saved_model\u001b[0;34m(model, saved_model_path, custom_objects, as_text, input_signature, serving_only)\u001b[0m\n\u001b[1;32m    127\u001b[0m         signatures=saving_utils.trace_model_call(model, input_signature))\n\u001b[1;32m    128\u001b[0m   \u001b[0;32melse\u001b[0m\u001b[0;34m:\u001b[0m\u001b[0;34m\u001b[0m\u001b[0;34m\u001b[0m\u001b[0m\n\u001b[0;32m--> 129\u001b[0;31m     _save_v1_format(model, saved_model_path, custom_objects, as_text,\n\u001b[0m\u001b[1;32m    130\u001b[0m                     input_signature)\n\u001b[1;32m    131\u001b[0m \u001b[0;34m\u001b[0m\u001b[0m\n",
      "\u001b[0;32m~/.local/lib/python3.8/site-packages/keras/saving/saved_model_experimental.py\u001b[0m in \u001b[0;36m_save_v1_format\u001b[0;34m(model, path, custom_objects, as_text, input_signature)\u001b[0m\n\u001b[1;32m    199\u001b[0m     if isinstance(model.optimizer, (optimizer_v1.TFOptimizer,\n\u001b[1;32m    200\u001b[0m                                     optimizer_v2.OptimizerV2)):\n\u001b[0;32m--> 201\u001b[0;31m       \u001b[0m_export_mode\u001b[0m\u001b[0;34m(\u001b[0m\u001b[0mmode_keys\u001b[0m\u001b[0;34m.\u001b[0m\u001b[0mModeKeys\u001b[0m\u001b[0;34m.\u001b[0m\u001b[0mTRAIN\u001b[0m\u001b[0;34m,\u001b[0m \u001b[0mhas_saved_vars\u001b[0m\u001b[0;34m,\u001b[0m \u001b[0;34m**\u001b[0m\u001b[0mexport_args\u001b[0m\u001b[0;34m)\u001b[0m\u001b[0;34m\u001b[0m\u001b[0;34m\u001b[0m\u001b[0m\n\u001b[0m\u001b[1;32m    202\u001b[0m       \u001b[0mhas_saved_vars\u001b[0m \u001b[0;34m=\u001b[0m \u001b[0;32mTrue\u001b[0m\u001b[0;34m\u001b[0m\u001b[0;34m\u001b[0m\u001b[0m\n\u001b[1;32m    203\u001b[0m       \u001b[0m_export_mode\u001b[0m\u001b[0;34m(\u001b[0m\u001b[0mmode_keys\u001b[0m\u001b[0;34m.\u001b[0m\u001b[0mModeKeys\u001b[0m\u001b[0;34m.\u001b[0m\u001b[0mTEST\u001b[0m\u001b[0;34m,\u001b[0m \u001b[0mhas_saved_vars\u001b[0m\u001b[0;34m,\u001b[0m \u001b[0;34m**\u001b[0m\u001b[0mexport_args\u001b[0m\u001b[0;34m)\u001b[0m\u001b[0;34m\u001b[0m\u001b[0;34m\u001b[0m\u001b[0m\n",
      "\u001b[0;32m~/.local/lib/python3.8/site-packages/keras/saving/saved_model_experimental.py\u001b[0m in \u001b[0;36m_export_mode\u001b[0;34m(mode, has_saved_vars, builder, model, custom_objects, checkpoint_path, input_signature)\u001b[0m\n\u001b[1;32m    275\u001b[0m     \u001b[0mtrain_op\u001b[0m \u001b[0;34m=\u001b[0m \u001b[0;32mNone\u001b[0m\u001b[0;34m\u001b[0m\u001b[0;34m\u001b[0m\u001b[0m\n\u001b[1;32m    276\u001b[0m     \u001b[0;32mif\u001b[0m \u001b[0mmode\u001b[0m \u001b[0;34m==\u001b[0m \u001b[0mmode_keys\u001b[0m\u001b[0;34m.\u001b[0m\u001b[0mModeKeys\u001b[0m\u001b[0;34m.\u001b[0m\u001b[0mTRAIN\u001b[0m\u001b[0;34m:\u001b[0m\u001b[0;34m\u001b[0m\u001b[0;34m\u001b[0m\u001b[0m\n\u001b[0;32m--> 277\u001b[0;31m       \u001b[0mclone\u001b[0m\u001b[0;34m.\u001b[0m\u001b[0m_make_train_function\u001b[0m\u001b[0;34m(\u001b[0m\u001b[0;34m)\u001b[0m  \u001b[0;31m# pylint: disable=protected-access\u001b[0m\u001b[0;34m\u001b[0m\u001b[0;34m\u001b[0m\u001b[0m\n\u001b[0m\u001b[1;32m    278\u001b[0m       \u001b[0mtrain_op\u001b[0m \u001b[0;34m=\u001b[0m \u001b[0mclone\u001b[0m\u001b[0;34m.\u001b[0m\u001b[0mtrain_function\u001b[0m\u001b[0;34m.\u001b[0m\u001b[0mupdates_op\u001b[0m\u001b[0;34m\u001b[0m\u001b[0;34m\u001b[0m\u001b[0m\n\u001b[1;32m    279\u001b[0m     \u001b[0;32melif\u001b[0m \u001b[0mmode\u001b[0m \u001b[0;34m==\u001b[0m \u001b[0mmode_keys\u001b[0m\u001b[0;34m.\u001b[0m\u001b[0mModeKeys\u001b[0m\u001b[0;34m.\u001b[0m\u001b[0mTEST\u001b[0m\u001b[0;34m:\u001b[0m\u001b[0;34m\u001b[0m\u001b[0;34m\u001b[0m\u001b[0m\n",
      "\u001b[0;32m~/.local/lib/python3.8/site-packages/keras/engine/training_v1.py\u001b[0m in \u001b[0;36m_make_train_function\u001b[0;34m(self)\u001b[0m\n\u001b[1;32m   2014\u001b[0m         \u001b[0;32mwith\u001b[0m \u001b[0mbackend\u001b[0m\u001b[0;34m.\u001b[0m\u001b[0mname_scope\u001b[0m\u001b[0;34m(\u001b[0m\u001b[0;34m'training'\u001b[0m\u001b[0;34m)\u001b[0m\u001b[0;34m:\u001b[0m\u001b[0;34m\u001b[0m\u001b[0;34m\u001b[0m\u001b[0m\n\u001b[1;32m   2015\u001b[0m           \u001b[0;31m# Training updates\u001b[0m\u001b[0;34m\u001b[0m\u001b[0;34m\u001b[0m\u001b[0;34m\u001b[0m\u001b[0m\n\u001b[0;32m-> 2016\u001b[0;31m           updates = self.optimizer.get_updates(\n\u001b[0m\u001b[1;32m   2017\u001b[0m               params=self._collected_trainable_weights, loss=self.total_loss)\n\u001b[1;32m   2018\u001b[0m           \u001b[0;31m# Unconditional updates\u001b[0m\u001b[0;34m\u001b[0m\u001b[0;34m\u001b[0m\u001b[0;34m\u001b[0m\u001b[0m\n",
      "\u001b[0;32m~/.local/lib/python3.8/site-packages/keras/optimizer_v2/optimizer_v2.py\u001b[0m in \u001b[0;36mget_updates\u001b[0;34m(self, loss, params)\u001b[0m\n\u001b[1;32m    772\u001b[0m \u001b[0;34m\u001b[0m\u001b[0m\n\u001b[1;32m    773\u001b[0m   \u001b[0;32mdef\u001b[0m \u001b[0mget_updates\u001b[0m\u001b[0;34m(\u001b[0m\u001b[0mself\u001b[0m\u001b[0;34m,\u001b[0m \u001b[0mloss\u001b[0m\u001b[0;34m,\u001b[0m \u001b[0mparams\u001b[0m\u001b[0;34m)\u001b[0m\u001b[0;34m:\u001b[0m\u001b[0;34m\u001b[0m\u001b[0;34m\u001b[0m\u001b[0m\n\u001b[0;32m--> 774\u001b[0;31m     \u001b[0mgrads\u001b[0m \u001b[0;34m=\u001b[0m \u001b[0mself\u001b[0m\u001b[0;34m.\u001b[0m\u001b[0mget_gradients\u001b[0m\u001b[0;34m(\u001b[0m\u001b[0mloss\u001b[0m\u001b[0;34m,\u001b[0m \u001b[0mparams\u001b[0m\u001b[0;34m)\u001b[0m\u001b[0;34m\u001b[0m\u001b[0;34m\u001b[0m\u001b[0m\n\u001b[0m\u001b[1;32m    775\u001b[0m     \u001b[0mgrads_and_vars\u001b[0m \u001b[0;34m=\u001b[0m \u001b[0mlist\u001b[0m\u001b[0;34m(\u001b[0m\u001b[0mzip\u001b[0m\u001b[0;34m(\u001b[0m\u001b[0mgrads\u001b[0m\u001b[0;34m,\u001b[0m \u001b[0mparams\u001b[0m\u001b[0;34m)\u001b[0m\u001b[0;34m)\u001b[0m\u001b[0;34m\u001b[0m\u001b[0;34m\u001b[0m\u001b[0m\n\u001b[1;32m    776\u001b[0m     self._assert_valid_dtypes([\n",
      "\u001b[0;32m~/.local/lib/python3.8/site-packages/keras/optimizer_v2/optimizer_v2.py\u001b[0m in \u001b[0;36mget_gradients\u001b[0;34m(self, loss, params)\u001b[0m\n\u001b[1;32m    761\u001b[0m     with backend.get_graph().as_default(), backend.name_scope(self._name +\n\u001b[1;32m    762\u001b[0m                                                               \"/gradients\"):\n\u001b[0;32m--> 763\u001b[0;31m       \u001b[0mgrads\u001b[0m \u001b[0;34m=\u001b[0m \u001b[0mtf\u001b[0m\u001b[0;34m.\u001b[0m\u001b[0mcompat\u001b[0m\u001b[0;34m.\u001b[0m\u001b[0mv1\u001b[0m\u001b[0;34m.\u001b[0m\u001b[0mgradients\u001b[0m\u001b[0;34m(\u001b[0m\u001b[0mloss\u001b[0m\u001b[0;34m,\u001b[0m \u001b[0mparams\u001b[0m\u001b[0;34m)\u001b[0m\u001b[0;34m\u001b[0m\u001b[0;34m\u001b[0m\u001b[0m\n\u001b[0m\u001b[1;32m    764\u001b[0m       \u001b[0;32mfor\u001b[0m \u001b[0mgrad\u001b[0m\u001b[0;34m,\u001b[0m \u001b[0mparam\u001b[0m \u001b[0;32min\u001b[0m \u001b[0mzip\u001b[0m\u001b[0;34m(\u001b[0m\u001b[0mgrads\u001b[0m\u001b[0;34m,\u001b[0m \u001b[0mparams\u001b[0m\u001b[0;34m)\u001b[0m\u001b[0;34m:\u001b[0m\u001b[0;34m\u001b[0m\u001b[0;34m\u001b[0m\u001b[0m\n\u001b[1;32m    765\u001b[0m         \u001b[0;32mif\u001b[0m \u001b[0mgrad\u001b[0m \u001b[0;32mis\u001b[0m \u001b[0;32mNone\u001b[0m\u001b[0;34m:\u001b[0m\u001b[0;34m\u001b[0m\u001b[0;34m\u001b[0m\u001b[0m\n",
      "\u001b[0;32m~/.local/lib/python3.8/site-packages/tensorflow/python/ops/gradients_impl.py\u001b[0m in \u001b[0;36mgradients\u001b[0;34m(ys, xs, grad_ys, name, colocate_gradients_with_ops, gate_gradients, aggregation_method, stop_gradients, unconnected_gradients)\u001b[0m\n\u001b[1;32m    167\u001b[0m   \u001b[0;31m# pylint: disable=protected-access\u001b[0m\u001b[0;34m\u001b[0m\u001b[0;34m\u001b[0m\u001b[0;34m\u001b[0m\u001b[0m\n\u001b[1;32m    168\u001b[0m   \u001b[0;32mwith\u001b[0m \u001b[0mops\u001b[0m\u001b[0;34m.\u001b[0m\u001b[0mget_default_graph\u001b[0m\u001b[0;34m(\u001b[0m\u001b[0;34m)\u001b[0m\u001b[0;34m.\u001b[0m\u001b[0m_mutation_lock\u001b[0m\u001b[0;34m(\u001b[0m\u001b[0;34m)\u001b[0m\u001b[0;34m:\u001b[0m\u001b[0;34m\u001b[0m\u001b[0;34m\u001b[0m\u001b[0m\n\u001b[0;32m--> 169\u001b[0;31m     return gradients_util._GradientsHelper(\n\u001b[0m\u001b[1;32m    170\u001b[0m         \u001b[0mys\u001b[0m\u001b[0;34m,\u001b[0m \u001b[0mxs\u001b[0m\u001b[0;34m,\u001b[0m \u001b[0mgrad_ys\u001b[0m\u001b[0;34m,\u001b[0m \u001b[0mname\u001b[0m\u001b[0;34m,\u001b[0m \u001b[0mcolocate_gradients_with_ops\u001b[0m\u001b[0;34m,\u001b[0m\u001b[0;34m\u001b[0m\u001b[0;34m\u001b[0m\u001b[0m\n\u001b[1;32m    171\u001b[0m         \u001b[0mgate_gradients\u001b[0m\u001b[0;34m,\u001b[0m \u001b[0maggregation_method\u001b[0m\u001b[0;34m,\u001b[0m \u001b[0mstop_gradients\u001b[0m\u001b[0;34m,\u001b[0m\u001b[0;34m\u001b[0m\u001b[0;34m\u001b[0m\u001b[0m\n",
      "\u001b[0;32m~/.local/lib/python3.8/site-packages/tensorflow/python/ops/gradients_util.py\u001b[0m in \u001b[0;36m_GradientsHelper\u001b[0;34m(ys, xs, grad_ys, name, colocate_gradients_with_ops, gate_gradients, aggregation_method, stop_gradients, unconnected_gradients, src_graph)\u001b[0m\n\u001b[1;32m    524\u001b[0m         xs, name=\"x\", as_ref=True)\n\u001b[1;32m    525\u001b[0m     \u001b[0mxs_set\u001b[0m \u001b[0;34m=\u001b[0m \u001b[0mobject_identity\u001b[0m\u001b[0;34m.\u001b[0m\u001b[0mObjectIdentitySet\u001b[0m\u001b[0;34m(\u001b[0m\u001b[0mxs\u001b[0m\u001b[0;34m)\u001b[0m\u001b[0;34m\u001b[0m\u001b[0;34m\u001b[0m\u001b[0m\n\u001b[0;32m--> 526\u001b[0;31m     grad_ys = _DefaultGradYs(grad_ys, ys, colocate_gradients_with_ops,\n\u001b[0m\u001b[1;32m    527\u001b[0m                              gradient_uid)\n\u001b[1;32m    528\u001b[0m \u001b[0;34m\u001b[0m\u001b[0m\n",
      "\u001b[0;32m~/.local/lib/python3.8/site-packages/tensorflow/python/ops/gradients_util.py\u001b[0m in \u001b[0;36m_DefaultGradYs\u001b[0;34m(grad_ys, ys, colocate_gradients_with_ops, gradient_uid)\u001b[0m\n\u001b[1;32m    166\u001b[0m   \u001b[0mnew_grad_ys\u001b[0m \u001b[0;34m=\u001b[0m \u001b[0;34m[\u001b[0m\u001b[0;34m]\u001b[0m\u001b[0;34m\u001b[0m\u001b[0;34m\u001b[0m\u001b[0m\n\u001b[1;32m    167\u001b[0m   \u001b[0;32mfor\u001b[0m \u001b[0mi\u001b[0m\u001b[0;34m,\u001b[0m \u001b[0;34m(\u001b[0m\u001b[0my\u001b[0m\u001b[0;34m,\u001b[0m \u001b[0mgrad_y\u001b[0m\u001b[0;34m)\u001b[0m \u001b[0;32min\u001b[0m \u001b[0menumerate\u001b[0m\u001b[0;34m(\u001b[0m\u001b[0mzip\u001b[0m\u001b[0;34m(\u001b[0m\u001b[0mys\u001b[0m\u001b[0;34m,\u001b[0m \u001b[0mgrad_ys\u001b[0m\u001b[0;34m)\u001b[0m\u001b[0;34m)\u001b[0m\u001b[0;34m:\u001b[0m\u001b[0;34m\u001b[0m\u001b[0;34m\u001b[0m\u001b[0m\n\u001b[0;32m--> 168\u001b[0;31m     \u001b[0;32mwith\u001b[0m \u001b[0m_maybe_colocate_with\u001b[0m\u001b[0;34m(\u001b[0m\u001b[0my\u001b[0m\u001b[0;34m.\u001b[0m\u001b[0mop\u001b[0m\u001b[0;34m,\u001b[0m \u001b[0mgradient_uid\u001b[0m\u001b[0;34m,\u001b[0m \u001b[0mcolocate_gradients_with_ops\u001b[0m\u001b[0;34m)\u001b[0m\u001b[0;34m:\u001b[0m\u001b[0;34m\u001b[0m\u001b[0;34m\u001b[0m\u001b[0m\n\u001b[0m\u001b[1;32m    169\u001b[0m       \u001b[0;32mif\u001b[0m \u001b[0mgrad_y\u001b[0m \u001b[0;32mis\u001b[0m \u001b[0;32mNone\u001b[0m\u001b[0;34m:\u001b[0m\u001b[0;34m\u001b[0m\u001b[0;34m\u001b[0m\u001b[0m\n\u001b[1;32m    170\u001b[0m         \u001b[0;32mif\u001b[0m \u001b[0my\u001b[0m\u001b[0;34m.\u001b[0m\u001b[0mdtype\u001b[0m\u001b[0;34m.\u001b[0m\u001b[0mis_complex\u001b[0m\u001b[0;34m:\u001b[0m\u001b[0;34m\u001b[0m\u001b[0;34m\u001b[0m\u001b[0m\n",
      "\u001b[0;31mAttributeError\u001b[0m: 'NoneType' object has no attribute 'op'"
     ]
    }
   ],
   "source": [
    "!rm -R tflite_par_model\n",
    "!mkdir tflite_par_model\n",
    "\n",
    "# TFLiteTransferConverter(num_classes, base_model, head_model, optimizer, train_batch_size)\n",
    "converter = TFLiteTransferConverter(labels.shape[1],\n",
    "              base,\n",
    "              heads.KerasModelHead(head),\n",
    "              optimizers.SGD(0.001),\n",
    "              train_batch_size=5)\n",
    "\n",
    "converter.convert_and_save('tflite_par_model')"
   ]
  },
  {
   "cell_type": "markdown",
   "metadata": {
    "id": "2xi3s0iAsnw2"
   },
   "source": [
    "--------------------"
   ]
  },
  {
   "cell_type": "code",
   "execution_count": null,
   "metadata": {},
   "outputs": [],
   "source": []
  }
 ],
 "metadata": {
  "accelerator": "GPU",
  "colab": {
   "collapsed_sections": [],
   "name": "PAR.ipynb",
   "provenance": []
  },
  "kernelspec": {
   "display_name": "venv",
   "language": "python",
   "name": "venv"
  },
  "language_info": {
   "codemirror_mode": {
    "name": "ipython",
    "version": 3
   },
   "file_extension": ".py",
   "mimetype": "text/x-python",
   "name": "python",
   "nbconvert_exporter": "python",
   "pygments_lexer": "ipython3",
   "version": "3.8.10"
  }
 },
 "nbformat": 4,
 "nbformat_minor": 4
}
